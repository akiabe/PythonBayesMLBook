{
 "cells": [
  {
   "cell_type": "markdown",
   "id": "dab4aa05",
   "metadata": {},
   "source": [
    "# 講談社「Pythonではじめるベイズ機械学習入門」第3章 回帰モデル"
   ]
  },
  {
   "cell_type": "markdown",
   "id": "9c9b16b6",
   "metadata": {},
   "source": [
    "## 3.4 ロジスティック回帰モデル"
   ]
  },
  {
   "cell_type": "code",
   "execution_count": 56,
   "id": "cf00c2f1",
   "metadata": {},
   "outputs": [],
   "source": [
    "using Distributions\n",
    "using Plots\n",
    "using Turing\n",
    "using StatsPlots\n",
    "using RDatasets\n",
    "using StatsBase\n",
    "using DataFrames;"
   ]
  },
  {
   "cell_type": "code",
   "execution_count": 79,
   "id": "fb0ce510",
   "metadata": {},
   "outputs": [
    {
     "data": {
      "text/plain": [
       "50×5 Matrix{Any}:\n",
       " 5.5  3.5  \"setosa\"      1.0  0\n",
       " 6.2  2.2  \"versicolor\"  1.0  1\n",
       " 5.0  3.6  \"setosa\"      1.0  0\n",
       " 5.7  2.6  \"versicolor\"  1.0  1\n",
       " 4.6  3.1  \"setosa\"      1.0  0\n",
       " 5.0  2.3  \"versicolor\"  1.0  1\n",
       " 4.8  3.4  \"setosa\"      1.0  0\n",
       " 6.1  2.8  \"versicolor\"  1.0  1\n",
       " 5.2  3.4  \"setosa\"      1.0  0\n",
       " 4.6  3.1  \"setosa\"      1.0  0\n",
       " 4.8  3.1  \"setosa\"      1.0  0\n",
       " 5.5  2.4  \"versicolor\"  1.0  1\n",
       " 4.5  2.3  \"setosa\"      1.0  0\n",
       " ⋮                            \n",
       " 5.0  3.5  \"setosa\"      1.0  0\n",
       " 5.0  3.2  \"setosa\"      1.0  0\n",
       " 5.7  2.8  \"versicolor\"  1.0  1\n",
       " 5.1  3.3  \"setosa\"      1.0  0\n",
       " 5.0  3.4  \"setosa\"      1.0  0\n",
       " 6.0  2.7  \"versicolor\"  1.0  1\n",
       " 4.7  3.2  \"setosa\"      1.0  0\n",
       " 6.3  2.5  \"versicolor\"  1.0  1\n",
       " 4.6  3.6  \"setosa\"      1.0  0\n",
       " 5.9  3.2  \"versicolor\"  1.0  1\n",
       " 5.7  2.8  \"versicolor\"  1.0  1\n",
       " 4.8  3.1  \"setosa\"      1.0  0"
      ]
     },
     "execution_count": 79,
     "metadata": {},
     "output_type": "execute_result"
    }
   ],
   "source": [
    "iris_dataset = dataset(\"datasets\", \"iris\")\n"
   ]
  },
  {
   "cell_type": "code",
   "execution_count": 53,
   "id": "5dc629a0",
   "metadata": {},
   "outputs": [],
   "source": [
    "setosa = iris_dataset[iris_dataset.Species .== \"setosa\", :]\n",
    "versicolor = iris_dataset[iris_dataset.Species .== \"versicolor\", :]\n",
    "iris_dataset_2species = vcat(setosa, versicolor)\n",
    "N = 50\n",
    "iris_dataset_use = iris_dataset_2species[rand(1:size(iris_dataset_2species, 1), N), :]\n",
    "x_data = iris_dataset_use[:, [\"SepalLength\", \"SepalWidth\", \"Species\"]]\n",
    "x_data_add_bias = hcat(x_data, DataFrame(bias=ones(N)))\n",
    "_tmp = Matrix(x_data_add_bias)\n",
    "tmp = hcat(_tmp, ones(N))\n",
    "for n in 1:N\n",
    "    if tmp[n, 3] == \"setosa\"\n",
    "        tmp[n, 5] = 0\n",
    "    else\n",
    "        tmp[n, 5] = 1\n",
    "    end\n",
    "end\n",
    "\n",
    "tmp"
   ]
  },
  {
   "cell_type": "code",
   "execution_count": null,
   "id": "2697e968",
   "metadata": {},
   "outputs": [],
   "source": []
  },
  {
   "cell_type": "code",
   "execution_count": null,
   "id": "1b5f6f0c",
   "metadata": {},
   "outputs": [],
   "source": []
  },
  {
   "cell_type": "code",
   "execution_count": null,
   "id": "f3908315",
   "metadata": {},
   "outputs": [],
   "source": []
  },
  {
   "cell_type": "code",
   "execution_count": null,
   "id": "570ac491",
   "metadata": {},
   "outputs": [],
   "source": []
  }
 ],
 "metadata": {
  "kernelspec": {
   "display_name": "Julia 1.7.0",
   "language": "julia",
   "name": "julia-1.7"
  },
  "language_info": {
   "file_extension": ".jl",
   "mimetype": "application/julia",
   "name": "julia",
   "version": "1.7.2"
  }
 },
 "nbformat": 4,
 "nbformat_minor": 5
}
