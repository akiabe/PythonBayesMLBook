{
 "cells": [
  {
   "cell_type": "markdown",
   "id": "d58a6140",
   "metadata": {},
   "source": [
    "# 講談社「Pythonではじめるベイズ機械学習入門」第4章 潜在変数モデル"
   ]
  },
  {
   "cell_type": "markdown",
   "id": "e6d280c6",
   "metadata": {},
   "source": [
    "## 4.1 混合ガウスモデル"
   ]
  },
  {
   "cell_type": "code",
   "execution_count": 1,
   "id": "74b246b7",
   "metadata": {},
   "outputs": [
    {
     "ename": "LoadError",
     "evalue": "InitError: UndefVarError: Params not defined\nduring initialization of module Inner",
     "output_type": "error",
     "traceback": [
      "InitError: UndefVarError: Params not defined\nduring initialization of module Inner",
      "",
      "Stacktrace:",
      "  [1] top-level scope",
      "    @ none:1",
      "  [2] eval",
      "    @ ./boot.jl:373 [inlined]",
      "  [3] define_typeinf_code2()",
      "    @ IRTools.Inner ~/.julia/packages/IRTools/BpoqK/src/reflection/reflection.jl:21",
      "  [4] __init__()",
      "    @ IRTools.Inner ~/.julia/packages/IRTools/BpoqK/src/IRTools.jl:37",
      "  [5] _include_from_serialized(path::String, depmods::Vector{Any})",
      "    @ Base ./loading.jl:768",
      "  [6] _require_search_from_serialized(pkg::Base.PkgId, sourcepath::String)",
      "    @ Base ./loading.jl:854",
      "  [7] _tryrequire_from_serialized(modkey::Base.PkgId, build_id::UInt64, modpath::String)",
      "    @ Base ./loading.jl:783",
      "  [8] _require_search_from_serialized(pkg::Base.PkgId, sourcepath::String)",
      "    @ Base ./loading.jl:843",
      "  [9] _tryrequire_from_serialized(modkey::Base.PkgId, build_id::UInt64, modpath::String)",
      "    @ Base ./loading.jl:783",
      " [10] _require_search_from_serialized(pkg::Base.PkgId, sourcepath::String)",
      "    @ Base ./loading.jl:843",
      " [11] _require(pkg::Base.PkgId)",
      "    @ Base ./loading.jl:1097",
      " [12] require(uuidkey::Base.PkgId)",
      "    @ Base ./loading.jl:1013",
      " [13] require(into::Module, mod::Symbol)",
      "    @ Base ./loading.jl:997",
      " [14] eval",
      "    @ ./boot.jl:373 [inlined]",
      " [15] include_string(mapexpr::typeof(REPL.softscope), mod::Module, code::String, filename::String)",
      "    @ Base ./loading.jl:1196"
     ]
    }
   ],
   "source": [
    "using Distributions\n",
    "using Plots\n",
    "using Turing\n",
    "using LinearAlgebra"
   ]
  },
  {
   "cell_type": "code",
   "execution_count": null,
   "id": "3e083730",
   "metadata": {},
   "outputs": [],
   "source": [
    "μ₁ = [\n",
    "    -1.0\n",
    "    1.0\n",
    "]\n",
    "\n",
    "Σ₁ = [\n",
    "    0.2 0.0\n",
    "    0.0 0.2\n",
    "]\n",
    "\n",
    "μ₂ = [\n",
    "    1.0\n",
    "    -1.0\n",
    "]\n",
    "\n",
    "Σ₂ = [\n",
    "    0.4 0.0\n",
    "    0.0 0.4\n",
    "]\n",
    "\n",
    "p = 0.3\n",
    "\n",
    "N = 100\n",
    "\n",
    "X = Array{Float64}(undef, 2, N)\n",
    "S = Array{Bool}(undef, N)\n",
    "\n",
    "for i in 1:N\n",
    "    S[i] = rand(Bernoulli(p))\n",
    "    (μ, Σ) = S[i] == 1 ? (μ₁, Σ₁) : (μ₂, Σ₂)\n",
    "    X[:, i] = rand(MvNormal(μ, Σ))\n",
    "end\n",
    "\n",
    "scatter(X[1, :], X[2, :], xlabel=\"x₁\", ylabel=\"x₂\", label=:none)"
   ]
  },
  {
   "cell_type": "code",
   "execution_count": null,
   "id": "e9809846",
   "metadata": {},
   "outputs": [],
   "source": [
    "HalfCauchy(μ, σ) = Truncated(Cauchy(μ, σ), 0.0, Inf)"
   ]
  },
  {
   "cell_type": "code",
   "execution_count": null,
   "id": "9690282c",
   "metadata": {},
   "outputs": [],
   "source": [
    "@model function gaussian_mixture_model(x)\n",
    "    D, N = size(x)\n",
    "    K = 3\n",
    "    μₖ = Vector(undef, K)\n",
    "    σₖ = Vector(undef, K)\n",
    "    zₙ = Vector(undef, N)\n",
    "    \n",
    "    for k in 1:K\n",
    "        μₖ[k] ~ Normal(0.0, 10.0)\n",
    "        σₖ[k] ~ HalfCauchy(0.0, 3.0)\n",
    "    end\n",
    "    \n",
    "    pi ~ Dirichlet(K, 1.0)\n",
    "    for n in 1:N\n",
    "        zₙ[n] ~ Categorical(pi)\n",
    "        x[:, n] .~ Normal(μₖ[zₙ[n]], σₖ[zₙ[n]])\n",
    "    end\n",
    "    \n",
    "    return zₙ\n",
    "end\n",
    "\n",
    "model = gaussian_mixture_model(X)"
   ]
  },
  {
   "cell_type": "code",
   "execution_count": null,
   "id": "9524e237",
   "metadata": {},
   "outputs": [],
   "source": [
    "chain = sample(model, PG(20), 1000);"
   ]
  },
  {
   "cell_type": "code",
   "execution_count": null,
   "id": "27fcaced",
   "metadata": {},
   "outputs": [],
   "source": []
  },
  {
   "cell_type": "code",
   "execution_count": null,
   "id": "4fae570f",
   "metadata": {},
   "outputs": [],
   "source": []
  },
  {
   "cell_type": "code",
   "execution_count": null,
   "id": "de31a5f7",
   "metadata": {},
   "outputs": [],
   "source": []
  }
 ],
 "metadata": {
  "kernelspec": {
   "display_name": "Julia 1.7.3",
   "language": "julia",
   "name": "julia-1.7"
  },
  "language_info": {
   "file_extension": ".jl",
   "mimetype": "application/julia",
   "name": "julia",
   "version": "1.7.3"
  }
 },
 "nbformat": 4,
 "nbformat_minor": 5
}
